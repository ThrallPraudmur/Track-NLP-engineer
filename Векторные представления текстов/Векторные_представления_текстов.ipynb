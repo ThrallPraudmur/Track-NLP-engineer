{
 "cells": [
  {
   "cell_type": "markdown",
   "id": "dd7ef660",
   "metadata": {
    "id": "dd7ef660"
   },
   "source": [
    "## Часть 1. Постановка задачи"
   ]
  },
  {
   "cell_type": "markdown",
   "id": "3f560308",
   "metadata": {
    "id": "3f560308"
   },
   "source": [
    "Задачей проекта является сформировать список id товаров, максимально похожих на него по описанию.\n",
    "\n",
    "**План выполнения проекта**\n",
    "\n",
    "1. Представить массив текстов в виде векторов\n",
    "2. Выбрать расстояние, с помощью которого можно оценивать близость векторов\n",
    "3. С помощью матричных операций попарной найти выбранное расстояние\n",
    "4. Задать порог значимости, с которым можно сравнить полученные значения"
   ]
  },
  {
   "cell_type": "code",
   "execution_count": 12,
   "id": "d8933c76",
   "metadata": {
    "id": "d8933c76"
   },
   "outputs": [],
   "source": [
    "import pandas as pd\n",
    "import gensim\n",
    "import gensim.downloader\n",
    "\n",
    "from sklearn.feature_extraction.text import TfidfVectorizer\n",
    "from sklearn.metrics.pairwise import linear_kernel\n",
    "from sklearn.metrics.pairwise import cosine_similarity\n",
    "\n",
    "import re #РЕГУЛЯРНЫЕ ВЫРАЖЕНИЯ\n",
    "\n",
    "import nltk\n",
    "from nltk.corpus import stopwords"
   ]
  },
  {
   "cell_type": "code",
   "execution_count": 7,
   "id": "10e813e2",
   "metadata": {
    "colab": {
     "base_uri": "https://localhost:8080/",
     "height": 143
    },
    "id": "10e813e2",
    "outputId": "0dfce3ad-1a74-4792-a01b-57e606557e44"
   },
   "outputs": [
    {
     "data": {
      "text/html": [
       "<div>\n",
       "<style scoped>\n",
       "    .dataframe tbody tr th:only-of-type {\n",
       "        vertical-align: middle;\n",
       "    }\n",
       "\n",
       "    .dataframe tbody tr th {\n",
       "        vertical-align: top;\n",
       "    }\n",
       "\n",
       "    .dataframe thead th {\n",
       "        text-align: right;\n",
       "    }\n",
       "</style>\n",
       "<table border=\"1\" class=\"dataframe\">\n",
       "  <thead>\n",
       "    <tr style=\"text-align: right;\">\n",
       "      <th></th>\n",
       "      <th>id</th>\n",
       "      <th>description</th>\n",
       "    </tr>\n",
       "  </thead>\n",
       "  <tbody>\n",
       "    <tr>\n",
       "      <th>0</th>\n",
       "      <td>1</td>\n",
       "      <td>Active classic boxers - There's a reason why o...</td>\n",
       "    </tr>\n",
       "    <tr>\n",
       "      <th>1</th>\n",
       "      <td>2</td>\n",
       "      <td>Active sport boxer briefs - Skinning up Glory ...</td>\n",
       "    </tr>\n",
       "    <tr>\n",
       "      <th>2</th>\n",
       "      <td>3</td>\n",
       "      <td>Active sport briefs - These superbreathable no...</td>\n",
       "    </tr>\n",
       "  </tbody>\n",
       "</table>\n",
       "</div>"
      ],
      "text/plain": [
       "   id                                        description\n",
       "0   1  Active classic boxers - There's a reason why o...\n",
       "1   2  Active sport boxer briefs - Skinning up Glory ...\n",
       "2   3  Active sport briefs - These superbreathable no..."
      ]
     },
     "execution_count": 7,
     "metadata": {},
     "output_type": "execute_result"
    }
   ],
   "source": [
    "data = pd.read_csv('sample-data.csv')\n",
    "data.head(3)"
   ]
  },
  {
   "cell_type": "markdown",
   "id": "bef2802b",
   "metadata": {
    "id": "bef2802b"
   },
   "source": [
    "## Часть  2. Предобработка текста"
   ]
  },
  {
   "cell_type": "code",
   "execution_count": 8,
   "id": "3e0f6fe1",
   "metadata": {
    "colab": {
     "base_uri": "https://localhost:8080/"
    },
    "id": "3e0f6fe1",
    "outputId": "bfdd6a37-a557-477a-a326-a22f4a1fce3a"
   },
   "outputs": [
    {
     "data": {
      "text/plain": [
       "0    active classic boxers  theres a reason why our...\n",
       "1    active sport boxer briefs  skinning up glory r...\n",
       "2    active sport briefs  these superbreathable nof...\n",
       "Name: description, dtype: object"
      ]
     },
     "execution_count": 8,
     "metadata": {},
     "output_type": "execute_result"
    }
   ],
   "source": [
    "data['description'] = data['description'].apply(lambda x: x.lower())\n",
    "data['description'] = data['description'].apply(lambda x: re.sub('[^a-z \\n]', '', x))\n",
    "data.description.head(3)"
   ]
  },
  {
   "cell_type": "markdown",
   "id": "09913ff3",
   "metadata": {
    "id": "09913ff3"
   },
   "source": [
    "## Часть 3. Векторное представление текстов"
   ]
  },
  {
   "cell_type": "markdown",
   "id": "0d3687e5",
   "metadata": {
    "id": "0d3687e5"
   },
   "source": [
    "### 3.1 С помощью TF-IDF"
   ]
  },
  {
   "cell_type": "code",
   "execution_count": 21,
   "id": "b44f9cad",
   "metadata": {
    "id": "b44f9cad"
   },
   "outputs": [],
   "source": [
    "tfidf = TfidfVectorizer(stop_words = 'english')\n",
    "text_embeddings = tfidf.fit_transform(data['description']) #МАТРИЦА\n",
    "cosine_sim = linear_kernel(text_embeddings, text_embeddings) #ВЕКТОРЫ ПРИШЛИ НОРМАЛИЗОВАННЫМИ"
   ]
  },
  {
   "cell_type": "code",
   "execution_count": 22,
   "id": "820c1d3d",
   "metadata": {
    "id": "820c1d3d",
    "outputId": "c82cd33b-1ad3-473e-d170-f374ba0f4b79"
   },
   "outputs": [
    {
     "data": {
      "text/html": [
       "<div>\n",
       "<style scoped>\n",
       "    .dataframe tbody tr th:only-of-type {\n",
       "        vertical-align: middle;\n",
       "    }\n",
       "\n",
       "    .dataframe tbody tr th {\n",
       "        vertical-align: top;\n",
       "    }\n",
       "\n",
       "    .dataframe thead th {\n",
       "        text-align: right;\n",
       "    }\n",
       "</style>\n",
       "<table border=\"1\" class=\"dataframe\">\n",
       "  <thead>\n",
       "    <tr style=\"text-align: right;\">\n",
       "      <th></th>\n",
       "      <th>1</th>\n",
       "      <th>2</th>\n",
       "      <th>3</th>\n",
       "      <th>4</th>\n",
       "      <th>5</th>\n",
       "      <th>6</th>\n",
       "      <th>7</th>\n",
       "      <th>8</th>\n",
       "      <th>9</th>\n",
       "      <th>10</th>\n",
       "      <th>...</th>\n",
       "      <th>491</th>\n",
       "      <th>492</th>\n",
       "      <th>493</th>\n",
       "      <th>494</th>\n",
       "      <th>495</th>\n",
       "      <th>496</th>\n",
       "      <th>497</th>\n",
       "      <th>498</th>\n",
       "      <th>499</th>\n",
       "      <th>500</th>\n",
       "    </tr>\n",
       "  </thead>\n",
       "  <tbody>\n",
       "    <tr>\n",
       "      <th>1</th>\n",
       "      <td>1.000000</td>\n",
       "      <td>0.224196</td>\n",
       "      <td>0.076623</td>\n",
       "      <td>0.086477</td>\n",
       "      <td>0.067941</td>\n",
       "      <td>0.045773</td>\n",
       "      <td>0.032097</td>\n",
       "      <td>0.002326</td>\n",
       "      <td>0.077415</td>\n",
       "      <td>0.006217</td>\n",
       "      <td>...</td>\n",
       "      <td>0.049025</td>\n",
       "      <td>0.022231</td>\n",
       "      <td>0.030805</td>\n",
       "      <td>0.304134</td>\n",
       "      <td>0.253021</td>\n",
       "      <td>0.217617</td>\n",
       "      <td>0.173909</td>\n",
       "      <td>0.074011</td>\n",
       "      <td>0.083066</td>\n",
       "      <td>0.053392</td>\n",
       "    </tr>\n",
       "    <tr>\n",
       "      <th>2</th>\n",
       "      <td>0.224196</td>\n",
       "      <td>1.000000</td>\n",
       "      <td>0.454095</td>\n",
       "      <td>0.061135</td>\n",
       "      <td>0.091318</td>\n",
       "      <td>0.030321</td>\n",
       "      <td>0.064155</td>\n",
       "      <td>0.001980</td>\n",
       "      <td>0.051693</td>\n",
       "      <td>0.016010</td>\n",
       "      <td>...</td>\n",
       "      <td>0.028843</td>\n",
       "      <td>0.018923</td>\n",
       "      <td>0.053741</td>\n",
       "      <td>0.201276</td>\n",
       "      <td>0.163699</td>\n",
       "      <td>0.150125</td>\n",
       "      <td>0.071095</td>\n",
       "      <td>0.044397</td>\n",
       "      <td>0.107665</td>\n",
       "      <td>0.047847</td>\n",
       "    </tr>\n",
       "    <tr>\n",
       "      <th>3</th>\n",
       "      <td>0.076623</td>\n",
       "      <td>0.454095</td>\n",
       "      <td>1.000000</td>\n",
       "      <td>0.056850</td>\n",
       "      <td>0.082491</td>\n",
       "      <td>0.037663</td>\n",
       "      <td>0.077258</td>\n",
       "      <td>0.007546</td>\n",
       "      <td>0.059098</td>\n",
       "      <td>0.010667</td>\n",
       "      <td>...</td>\n",
       "      <td>0.032706</td>\n",
       "      <td>0.021458</td>\n",
       "      <td>0.029733</td>\n",
       "      <td>0.128791</td>\n",
       "      <td>0.231893</td>\n",
       "      <td>0.091027</td>\n",
       "      <td>0.086333</td>\n",
       "      <td>0.050344</td>\n",
       "      <td>0.039301</td>\n",
       "      <td>0.028267</td>\n",
       "    </tr>\n",
       "  </tbody>\n",
       "</table>\n",
       "<p>3 rows × 500 columns</p>\n",
       "</div>"
      ],
      "text/plain": [
       "        1         2         3         4         5         6         7    \\\n",
       "1  1.000000  0.224196  0.076623  0.086477  0.067941  0.045773  0.032097   \n",
       "2  0.224196  1.000000  0.454095  0.061135  0.091318  0.030321  0.064155   \n",
       "3  0.076623  0.454095  1.000000  0.056850  0.082491  0.037663  0.077258   \n",
       "\n",
       "        8         9         10   ...       491       492       493       494  \\\n",
       "1  0.002326  0.077415  0.006217  ...  0.049025  0.022231  0.030805  0.304134   \n",
       "2  0.001980  0.051693  0.016010  ...  0.028843  0.018923  0.053741  0.201276   \n",
       "3  0.007546  0.059098  0.010667  ...  0.032706  0.021458  0.029733  0.128791   \n",
       "\n",
       "        495       496       497       498       499       500  \n",
       "1  0.253021  0.217617  0.173909  0.074011  0.083066  0.053392  \n",
       "2  0.163699  0.150125  0.071095  0.044397  0.107665  0.047847  \n",
       "3  0.231893  0.091027  0.086333  0.050344  0.039301  0.028267  \n",
       "\n",
       "[3 rows x 500 columns]"
      ]
     },
     "execution_count": 22,
     "metadata": {},
     "output_type": "execute_result"
    }
   ],
   "source": [
    "#cosine_data = pd.DataFrame(pd.DataFrame(cosine_sim).unstack().sort_values(ascending = False))\n",
    "cosine_data = pd.DataFrame(cosine_sim,\n",
    "                           index = data.id.values,\n",
    "                           columns = data.id.values) #ИНДЕКСАЦИЯ В СООТВЕТСВИИ С ID ДОК-ТА\n",
    "cosine_data.head(3)"
   ]
  },
  {
   "cell_type": "code",
   "execution_count": 23,
   "id": "ae7f77bb",
   "metadata": {
    "id": "ae7f77bb"
   },
   "outputs": [],
   "source": [
    "#ALPHA = порог значимости\n",
    "def get_similar(doc, alpha = 0.2):\n",
    "    #documents = enumerate(cosine_data.loc[doc], start=1)\n",
    "    #sorted_documents = sorted(documents, key = lambda x: x[1], reverse = True)\n",
    "    filtred_documents = cosine_data.loc[doc][cosine_data.loc[doc] > alpha]\n",
    "    sorted_documents = filtred_documents.sort_values(ascending = False)\n",
    "    similar_documents = sorted_documents[1:] #НУЛЕВУЮ НЕ БЕРЁМ = ТОТ ЖЕ ТОВАР\n",
    "    return similar_documents.index"
   ]
  },
  {
   "cell_type": "code",
   "execution_count": 24,
   "id": "37b962f0",
   "metadata": {
    "id": "37b962f0",
    "outputId": "41f86354-e678-4266-f029-158dbfd94af8"
   },
   "outputs": [
    {
     "data": {
      "text/plain": [
       "Int64Index([3, 300, 19, 1, 494], dtype='int64')"
      ]
     },
     "execution_count": 24,
     "metadata": {},
     "output_type": "execute_result"
    }
   ],
   "source": [
    "get_similar(2) #ДЕМОНСТРАЦИЯ РАБОТЫ"
   ]
  },
  {
   "cell_type": "code",
   "execution_count": 25,
   "id": "1e205924",
   "metadata": {
    "id": "1e205924",
    "outputId": "fc2a8237-fb7e-4a3b-e7c8-6b80e9cd7166"
   },
   "outputs": [
    {
     "data": {
      "text/plain": [
       "1      0.224196\n",
       "2      1.000000\n",
       "3      0.454095\n",
       "19     0.224473\n",
       "300    0.241254\n",
       "494    0.201276\n",
       "Name: 2, dtype: float64"
      ]
     },
     "execution_count": 25,
     "metadata": {},
     "output_type": "execute_result"
    }
   ],
   "source": [
    "cosine_data.loc[2][cosine_data.loc[2] > 0.2] #ПРОВЕРКА"
   ]
  },
  {
   "cell_type": "markdown",
   "id": "d11a682c",
   "metadata": {
    "id": "d11a682c"
   },
   "source": [
    "### 3.2 С помощью Word2Vec"
   ]
  },
  {
   "cell_type": "code",
   "execution_count": 11,
   "id": "A25tMcLDN-zk",
   "metadata": {
    "colab": {
     "base_uri": "https://localhost:8080/",
     "height": 237
    },
    "id": "A25tMcLDN-zk",
    "outputId": "a8eb50c2-a268-43b4-f8b8-e300b69bed95"
   },
   "outputs": [
    {
     "data": {
      "text/html": [
       "\n",
       "  <div id=\"df-2ed5ca2a-5aec-4303-ba2b-f504c87adff8\">\n",
       "    <div class=\"colab-df-container\">\n",
       "      <div>\n",
       "<style scoped>\n",
       "    .dataframe tbody tr th:only-of-type {\n",
       "        vertical-align: middle;\n",
       "    }\n",
       "\n",
       "    .dataframe tbody tr th {\n",
       "        vertical-align: top;\n",
       "    }\n",
       "\n",
       "    .dataframe thead th {\n",
       "        text-align: right;\n",
       "    }\n",
       "</style>\n",
       "<table border=\"1\" class=\"dataframe\">\n",
       "  <thead>\n",
       "    <tr style=\"text-align: right;\">\n",
       "      <th></th>\n",
       "      <th>0</th>\n",
       "      <th>1</th>\n",
       "      <th>2</th>\n",
       "      <th>3</th>\n",
       "      <th>4</th>\n",
       "      <th>5</th>\n",
       "      <th>6</th>\n",
       "      <th>7</th>\n",
       "      <th>8</th>\n",
       "      <th>9</th>\n",
       "      <th>...</th>\n",
       "      <th>290</th>\n",
       "      <th>291</th>\n",
       "      <th>292</th>\n",
       "      <th>293</th>\n",
       "      <th>294</th>\n",
       "      <th>295</th>\n",
       "      <th>296</th>\n",
       "      <th>297</th>\n",
       "      <th>298</th>\n",
       "      <th>299</th>\n",
       "    </tr>\n",
       "  </thead>\n",
       "  <tbody>\n",
       "    <tr>\n",
       "      <th>0</th>\n",
       "      <td>-0.050314</td>\n",
       "      <td>0.063278</td>\n",
       "      <td>-0.000972</td>\n",
       "      <td>0.082116</td>\n",
       "      <td>-0.053860</td>\n",
       "      <td>0.026812</td>\n",
       "      <td>0.067224</td>\n",
       "      <td>-0.093942</td>\n",
       "      <td>0.088861</td>\n",
       "      <td>0.140496</td>\n",
       "      <td>...</td>\n",
       "      <td>-0.096700</td>\n",
       "      <td>-0.015636</td>\n",
       "      <td>-0.051827</td>\n",
       "      <td>-0.030791</td>\n",
       "      <td>0.023613</td>\n",
       "      <td>-0.031848</td>\n",
       "      <td>0.081853</td>\n",
       "      <td>-0.047871</td>\n",
       "      <td>0.026281</td>\n",
       "      <td>0.035637</td>\n",
       "    </tr>\n",
       "    <tr>\n",
       "      <th>1</th>\n",
       "      <td>-0.060889</td>\n",
       "      <td>0.073999</td>\n",
       "      <td>-0.010183</td>\n",
       "      <td>0.068959</td>\n",
       "      <td>-0.075175</td>\n",
       "      <td>0.012902</td>\n",
       "      <td>0.074692</td>\n",
       "      <td>-0.059056</td>\n",
       "      <td>0.066102</td>\n",
       "      <td>0.109615</td>\n",
       "      <td>...</td>\n",
       "      <td>-0.078100</td>\n",
       "      <td>-0.019700</td>\n",
       "      <td>-0.043466</td>\n",
       "      <td>-0.029823</td>\n",
       "      <td>-0.004623</td>\n",
       "      <td>-0.015955</td>\n",
       "      <td>0.047257</td>\n",
       "      <td>-0.049199</td>\n",
       "      <td>0.018939</td>\n",
       "      <td>0.036264</td>\n",
       "    </tr>\n",
       "    <tr>\n",
       "      <th>2</th>\n",
       "      <td>-0.065388</td>\n",
       "      <td>0.085461</td>\n",
       "      <td>-0.024413</td>\n",
       "      <td>0.073966</td>\n",
       "      <td>-0.076954</td>\n",
       "      <td>0.005202</td>\n",
       "      <td>0.056151</td>\n",
       "      <td>-0.071290</td>\n",
       "      <td>0.063624</td>\n",
       "      <td>0.113803</td>\n",
       "      <td>...</td>\n",
       "      <td>-0.070393</td>\n",
       "      <td>-0.013450</td>\n",
       "      <td>-0.036206</td>\n",
       "      <td>-0.024904</td>\n",
       "      <td>0.003925</td>\n",
       "      <td>-0.016551</td>\n",
       "      <td>0.070185</td>\n",
       "      <td>-0.062012</td>\n",
       "      <td>0.021999</td>\n",
       "      <td>0.033070</td>\n",
       "    </tr>\n",
       "  </tbody>\n",
       "</table>\n",
       "<p>3 rows × 300 columns</p>\n",
       "</div>\n",
       "      <button class=\"colab-df-convert\" onclick=\"convertToInteractive('df-2ed5ca2a-5aec-4303-ba2b-f504c87adff8')\"\n",
       "              title=\"Convert this dataframe to an interactive table.\"\n",
       "              style=\"display:none;\">\n",
       "        \n",
       "  <svg xmlns=\"http://www.w3.org/2000/svg\" height=\"24px\"viewBox=\"0 0 24 24\"\n",
       "       width=\"24px\">\n",
       "    <path d=\"M0 0h24v24H0V0z\" fill=\"none\"/>\n",
       "    <path d=\"M18.56 5.44l.94 2.06.94-2.06 2.06-.94-2.06-.94-.94-2.06-.94 2.06-2.06.94zm-11 1L8.5 8.5l.94-2.06 2.06-.94-2.06-.94L8.5 2.5l-.94 2.06-2.06.94zm10 10l.94 2.06.94-2.06 2.06-.94-2.06-.94-.94-2.06-.94 2.06-2.06.94z\"/><path d=\"M17.41 7.96l-1.37-1.37c-.4-.4-.92-.59-1.43-.59-.52 0-1.04.2-1.43.59L10.3 9.45l-7.72 7.72c-.78.78-.78 2.05 0 2.83L4 21.41c.39.39.9.59 1.41.59.51 0 1.02-.2 1.41-.59l7.78-7.78 2.81-2.81c.8-.78.8-2.07 0-2.86zM5.41 20L4 18.59l7.72-7.72 1.47 1.35L5.41 20z\"/>\n",
       "  </svg>\n",
       "      </button>\n",
       "      \n",
       "  <style>\n",
       "    .colab-df-container {\n",
       "      display:flex;\n",
       "      flex-wrap:wrap;\n",
       "      gap: 12px;\n",
       "    }\n",
       "\n",
       "    .colab-df-convert {\n",
       "      background-color: #E8F0FE;\n",
       "      border: none;\n",
       "      border-radius: 50%;\n",
       "      cursor: pointer;\n",
       "      display: none;\n",
       "      fill: #1967D2;\n",
       "      height: 32px;\n",
       "      padding: 0 0 0 0;\n",
       "      width: 32px;\n",
       "    }\n",
       "\n",
       "    .colab-df-convert:hover {\n",
       "      background-color: #E2EBFA;\n",
       "      box-shadow: 0px 1px 2px rgba(60, 64, 67, 0.3), 0px 1px 3px 1px rgba(60, 64, 67, 0.15);\n",
       "      fill: #174EA6;\n",
       "    }\n",
       "\n",
       "    [theme=dark] .colab-df-convert {\n",
       "      background-color: #3B4455;\n",
       "      fill: #D2E3FC;\n",
       "    }\n",
       "\n",
       "    [theme=dark] .colab-df-convert:hover {\n",
       "      background-color: #434B5C;\n",
       "      box-shadow: 0px 1px 3px 1px rgba(0, 0, 0, 0.15);\n",
       "      filter: drop-shadow(0px 1px 2px rgba(0, 0, 0, 0.3));\n",
       "      fill: #FFFFFF;\n",
       "    }\n",
       "  </style>\n",
       "\n",
       "      <script>\n",
       "        const buttonEl =\n",
       "          document.querySelector('#df-2ed5ca2a-5aec-4303-ba2b-f504c87adff8 button.colab-df-convert');\n",
       "        buttonEl.style.display =\n",
       "          google.colab.kernel.accessAllowed ? 'block' : 'none';\n",
       "\n",
       "        async function convertToInteractive(key) {\n",
       "          const element = document.querySelector('#df-2ed5ca2a-5aec-4303-ba2b-f504c87adff8');\n",
       "          const dataTable =\n",
       "            await google.colab.kernel.invokeFunction('convertToInteractive',\n",
       "                                                     [key], {});\n",
       "          if (!dataTable) return;\n",
       "\n",
       "          const docLinkHtml = 'Like what you see? Visit the ' +\n",
       "            '<a target=\"_blank\" href=https://colab.research.google.com/notebooks/data_table.ipynb>data table notebook</a>'\n",
       "            + ' to learn more about interactive tables.';\n",
       "          element.innerHTML = '';\n",
       "          dataTable['output_type'] = 'display_data';\n",
       "          await google.colab.output.renderOutput(dataTable, element);\n",
       "          const docLink = document.createElement('div');\n",
       "          docLink.innerHTML = docLinkHtml;\n",
       "          element.appendChild(docLink);\n",
       "        }\n",
       "      </script>\n",
       "    </div>\n",
       "  </div>\n",
       "  "
      ],
      "text/plain": [
       "        0         1         2         3         4         5         6    \\\n",
       "0 -0.050314  0.063278 -0.000972  0.082116 -0.053860  0.026812  0.067224   \n",
       "1 -0.060889  0.073999 -0.010183  0.068959 -0.075175  0.012902  0.074692   \n",
       "2 -0.065388  0.085461 -0.024413  0.073966 -0.076954  0.005202  0.056151   \n",
       "\n",
       "        7         8         9    ...       290       291       292       293  \\\n",
       "0 -0.093942  0.088861  0.140496  ... -0.096700 -0.015636 -0.051827 -0.030791   \n",
       "1 -0.059056  0.066102  0.109615  ... -0.078100 -0.019700 -0.043466 -0.029823   \n",
       "2 -0.071290  0.063624  0.113803  ... -0.070393 -0.013450 -0.036206 -0.024904   \n",
       "\n",
       "        294       295       296       297       298       299  \n",
       "0  0.023613 -0.031848  0.081853 -0.047871  0.026281  0.035637  \n",
       "1 -0.004623 -0.015955  0.047257 -0.049199  0.018939  0.036264  \n",
       "2  0.003925 -0.016551  0.070185 -0.062012  0.021999  0.033070  \n",
       "\n",
       "[3 rows x 300 columns]"
      ]
     },
     "execution_count": 11,
     "metadata": {},
     "output_type": "execute_result"
    }
   ],
   "source": [
    "embeddings = gensim.downloader.load('word2vec-google-news-300') #ЗАГРУЗКА МОДЕЛИ\n",
    "\n",
    "words_df = pd.DataFrame()\n",
    "docs_df = pd.DataFrame()\n",
    "\n",
    "for document in data.description:\n",
    "    for word in document.split():\n",
    "        if word not in stop_words:\n",
    "            try:\n",
    "                word_vector = embeddings[word]\n",
    "            except:\n",
    "                pass\n",
    "            words_df = words_df.append(pd.Series(word_vector), ignore_index = True)\n",
    "    doc_vector = words_df.mean() #Series\n",
    "    docs_df = docs_df.append(doc_vector, ignore_index = True)\n",
    "\n",
    "nltk.download('stopwords')\n",
    "stop_words = set(stopwords.words('english'))\n",
    "\n",
    "docs_df.head(3)"
   ]
  },
  {
   "cell_type": "code",
   "execution_count": 14,
   "id": "afc52cb6",
   "metadata": {},
   "outputs": [
    {
     "data": {
      "text/html": [
       "<div>\n",
       "<style scoped>\n",
       "    .dataframe tbody tr th:only-of-type {\n",
       "        vertical-align: middle;\n",
       "    }\n",
       "\n",
       "    .dataframe tbody tr th {\n",
       "        vertical-align: top;\n",
       "    }\n",
       "\n",
       "    .dataframe thead th {\n",
       "        text-align: right;\n",
       "    }\n",
       "</style>\n",
       "<table border=\"1\" class=\"dataframe\">\n",
       "  <thead>\n",
       "    <tr style=\"text-align: right;\">\n",
       "      <th></th>\n",
       "      <th>1</th>\n",
       "      <th>2</th>\n",
       "      <th>3</th>\n",
       "      <th>4</th>\n",
       "      <th>5</th>\n",
       "      <th>6</th>\n",
       "      <th>7</th>\n",
       "      <th>8</th>\n",
       "      <th>9</th>\n",
       "      <th>10</th>\n",
       "      <th>...</th>\n",
       "      <th>491</th>\n",
       "      <th>492</th>\n",
       "      <th>493</th>\n",
       "      <th>494</th>\n",
       "      <th>495</th>\n",
       "      <th>496</th>\n",
       "      <th>497</th>\n",
       "      <th>498</th>\n",
       "      <th>499</th>\n",
       "      <th>500</th>\n",
       "    </tr>\n",
       "  </thead>\n",
       "  <tbody>\n",
       "    <tr>\n",
       "      <th>1</th>\n",
       "      <td>1.000000</td>\n",
       "      <td>0.965455</td>\n",
       "      <td>0.945284</td>\n",
       "      <td>0.940223</td>\n",
       "      <td>0.922498</td>\n",
       "      <td>0.917556</td>\n",
       "      <td>0.908886</td>\n",
       "      <td>0.907721</td>\n",
       "      <td>0.909651</td>\n",
       "      <td>0.908301</td>\n",
       "      <td>...</td>\n",
       "      <td>0.911868</td>\n",
       "      <td>0.911926</td>\n",
       "      <td>0.911972</td>\n",
       "      <td>0.912114</td>\n",
       "      <td>0.912238</td>\n",
       "      <td>0.912308</td>\n",
       "      <td>0.912335</td>\n",
       "      <td>0.912370</td>\n",
       "      <td>0.912382</td>\n",
       "      <td>0.912408</td>\n",
       "    </tr>\n",
       "    <tr>\n",
       "      <th>2</th>\n",
       "      <td>0.965455</td>\n",
       "      <td>1.000000</td>\n",
       "      <td>0.988583</td>\n",
       "      <td>0.978624</td>\n",
       "      <td>0.961214</td>\n",
       "      <td>0.954965</td>\n",
       "      <td>0.945760</td>\n",
       "      <td>0.944747</td>\n",
       "      <td>0.945607</td>\n",
       "      <td>0.944427</td>\n",
       "      <td>...</td>\n",
       "      <td>0.939139</td>\n",
       "      <td>0.939194</td>\n",
       "      <td>0.939212</td>\n",
       "      <td>0.939339</td>\n",
       "      <td>0.939463</td>\n",
       "      <td>0.939548</td>\n",
       "      <td>0.939600</td>\n",
       "      <td>0.939615</td>\n",
       "      <td>0.939639</td>\n",
       "      <td>0.939663</td>\n",
       "    </tr>\n",
       "    <tr>\n",
       "      <th>3</th>\n",
       "      <td>0.945284</td>\n",
       "      <td>0.988583</td>\n",
       "      <td>1.000000</td>\n",
       "      <td>0.987190</td>\n",
       "      <td>0.969165</td>\n",
       "      <td>0.961947</td>\n",
       "      <td>0.949472</td>\n",
       "      <td>0.948540</td>\n",
       "      <td>0.949523</td>\n",
       "      <td>0.947316</td>\n",
       "      <td>...</td>\n",
       "      <td>0.937191</td>\n",
       "      <td>0.937259</td>\n",
       "      <td>0.937285</td>\n",
       "      <td>0.937410</td>\n",
       "      <td>0.937553</td>\n",
       "      <td>0.937653</td>\n",
       "      <td>0.937730</td>\n",
       "      <td>0.937746</td>\n",
       "      <td>0.937766</td>\n",
       "      <td>0.937791</td>\n",
       "    </tr>\n",
       "  </tbody>\n",
       "</table>\n",
       "<p>3 rows × 500 columns</p>\n",
       "</div>"
      ],
      "text/plain": [
       "        1         2         3         4         5         6         7    \\\n",
       "1  1.000000  0.965455  0.945284  0.940223  0.922498  0.917556  0.908886   \n",
       "2  0.965455  1.000000  0.988583  0.978624  0.961214  0.954965  0.945760   \n",
       "3  0.945284  0.988583  1.000000  0.987190  0.969165  0.961947  0.949472   \n",
       "\n",
       "        8         9         10   ...       491       492       493       494  \\\n",
       "1  0.907721  0.909651  0.908301  ...  0.911868  0.911926  0.911972  0.912114   \n",
       "2  0.944747  0.945607  0.944427  ...  0.939139  0.939194  0.939212  0.939339   \n",
       "3  0.948540  0.949523  0.947316  ...  0.937191  0.937259  0.937285  0.937410   \n",
       "\n",
       "        495       496       497       498       499       500  \n",
       "1  0.912238  0.912308  0.912335  0.912370  0.912382  0.912408  \n",
       "2  0.939463  0.939548  0.939600  0.939615  0.939639  0.939663  \n",
       "3  0.937553  0.937653  0.937730  0.937746  0.937766  0.937791  \n",
       "\n",
       "[3 rows x 500 columns]"
      ]
     },
     "execution_count": 14,
     "metadata": {},
     "output_type": "execute_result"
    }
   ],
   "source": [
    "cosine_sim = cosine_similarity(docs_df, docs_df)\n",
    "cosine_data = pd.DataFrame(cosine_sim,\n",
    "                           index = data.id.values,\n",
    "                           columns = data.id.values) #ИНДЕКСАЦИЯ В СООТВЕТСВИИ С ID ДОК-ТА\n",
    "cosine_data.head(3)"
   ]
  },
  {
   "cell_type": "code",
   "execution_count": 18,
   "id": "57ca30b0",
   "metadata": {},
   "outputs": [],
   "source": [
    "def get_similar(doc, alpha = 0.95):\n",
    "    #documents = enumerate(cosine_data.loc[doc], start=1)\n",
    "    #sorted_documents = sorted(documents, key = lambda x: x[1], reverse = True)\n",
    "    filtred_documents = cosine_data.loc[doc][cosine_data.loc[doc] > alpha]\n",
    "    sorted_documents = filtred_documents.sort_values(ascending = False)\n",
    "    similar_documents = sorted_documents[1:] #НУЛЕВУЮ НЕ БЕРЁМ = ТОТ ЖЕ ТОВАР\n",
    "    return similar_documents.index"
   ]
  },
  {
   "cell_type": "code",
   "execution_count": 19,
   "id": "1d217f2f",
   "metadata": {},
   "outputs": [
    {
     "data": {
      "text/plain": [
       "Int64Index([3, 4, 1, 5, 6], dtype='int64')"
      ]
     },
     "execution_count": 19,
     "metadata": {},
     "output_type": "execute_result"
    }
   ],
   "source": [
    "get_similar(2) #ДЕМОНСТРАЦИЯ РАБОТЫ"
   ]
  },
  {
   "cell_type": "code",
   "execution_count": 20,
   "id": "ef8cd27e",
   "metadata": {},
   "outputs": [
    {
     "data": {
      "text/plain": [
       "1    0.965455\n",
       "2    1.000000\n",
       "3    0.988583\n",
       "4    0.978624\n",
       "5    0.961214\n",
       "6    0.954965\n",
       "Name: 2, dtype: float64"
      ]
     },
     "execution_count": 20,
     "metadata": {},
     "output_type": "execute_result"
    }
   ],
   "source": [
    "cosine_data.loc[2][cosine_data.loc[2] > 0.95] #ПРОВЕРКА"
   ]
  },
  {
   "cell_type": "markdown",
   "id": "5be2e817",
   "metadata": {
    "id": "5be2e817"
   },
   "source": [
    "## Выводы"
   ]
  },
  {
   "cell_type": "markdown",
   "id": "cf990f35",
   "metadata": {
    "id": "cf990f35"
   },
   "source": [
    "Результатом работы проекта является функция, которая получает на вход id товара, а на выходе выдаёт список id товаров, максимально похожих на него по описанию. За расстояние, по которому можно оценить близость векторов, было выбрано косинусное расстояние. За порог значимости alpha соответственно для инструмента tf-idf был выбран alpha = 0.2, а для Word2Vec был выбран alpha = 0.95 ."
   ]
  }
 ],
 "metadata": {
  "colab": {
   "provenance": []
  },
  "kernelspec": {
   "display_name": "Python 3",
   "language": "python",
   "name": "python3"
  },
  "language_info": {
   "codemirror_mode": {
    "name": "ipython",
    "version": 3
   },
   "file_extension": ".py",
   "mimetype": "text/x-python",
   "name": "python",
   "nbconvert_exporter": "python",
   "pygments_lexer": "ipython3",
   "version": "3.7.3"
  }
 },
 "nbformat": 4,
 "nbformat_minor": 5
}
